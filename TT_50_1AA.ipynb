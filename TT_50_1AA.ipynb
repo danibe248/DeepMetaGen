{
 "cells": [
  {
   "cell_type": "code",
   "execution_count": 1,
   "metadata": {
    "collapsed": false
   },
   "outputs": [
    {
     "name": "stderr",
     "output_type": "stream",
     "text": [
      "/usr/local/lib/python3.6/dist-packages/h5py/__init__.py:36: FutureWarning: Conversion of the second argument of issubdtype from `float` to `np.floating` is deprecated. In future, it will be treated as `np.float64 == np.dtype(float).type`.\n",
      "  from ._conv import register_converters as _register_converters\n",
      "Using TensorFlow backend.\n"
     ]
    }
   ],
   "source": [
    "from keras.models import Sequential\n",
    "from keras import layers\n",
    "from keras.optimizers import RMSprop\n",
    "from keras.optimizers import Adadelta\n",
    "from keras.optimizers import Adam\n",
    "from sklearn.model_selection import train_test_split\n",
    "from sklearn.preprocessing import LabelEncoder\n",
    "from keras.utils import np_utils\n",
    "from keras.layers import *\n",
    "import pandas as pd\n",
    "import numpy as np\n",
    "import matplotlib.pyplot as plt\n",
    "import sys\n",
    "from IPython.display import clear_output"
   ]
  },
  {
   "cell_type": "code",
   "execution_count": 2,
   "metadata": {
    "collapsed": true
   },
   "outputs": [],
   "source": [
    "files = !cd Datasets/20_genomes_species_splitted/50_splitted && ls *.csv\n",
    "files = list(map(lambda x: 'Datasets/20_genomes_species_splitted/50_splitted/'+x.split(' ')[-1],files))"
   ]
  },
  {
   "cell_type": "code",
   "execution_count": 3,
   "metadata": {
    "collapsed": true
   },
   "outputs": [],
   "source": [
    "d = pd.concat([pd.read_csv(f, index_col=0, header=0) for f in files],ignore_index=True)"
   ]
  },
  {
   "cell_type": "code",
   "execution_count": 4,
   "metadata": {
    "collapsed": true
   },
   "outputs": [],
   "source": [
    "names, occ = np.unique(d['class'].values, return_counts=True)"
   ]
  },
  {
   "cell_type": "code",
   "execution_count": 5,
   "metadata": {
    "collapsed": false
   },
   "outputs": [
    {
     "data": {
      "image/png": "[encoded data removed]",
      "text/plain": [
       "<matplotlib.figure.Figure at 0x7fd32e9486d8>"
      ]
     },
     "metadata": {},
     "output_type": "display_data"
    }
   ],
   "source": [
    "index = np.arange(len(names))\n",
    "plt.bar(index, occ)\n",
    "plt.xlabel('Species', fontsize=5)\n",
    "plt.ylabel('Samples', fontsize=5)\n",
    "plt.xticks(index,names, fontsize=5, rotation=30)\n",
    "plt.savefig('dist19.png')\n",
    "plt.show()"
   ]
  },
  {
   "cell_type": "code",
   "execution_count": 6,
   "metadata": {
    "collapsed": true
   },
   "outputs": [],
   "source": [
    "data = d[['class','seq']]"
   ]
  },
  {
   "cell_type": "code",
   "execution_count": 7,
   "metadata": {
    "collapsed": false
   },
   "outputs": [
    {
     "data": {
      "text/html": [
       "<div>\n",
       "<style scoped>\n",
       "    .dataframe tbody tr th:only-of-type {\n",
       "        vertical-align: middle;\n",
       "    }\n",
       "\n",
       "    .dataframe tbody tr th {\n",
       "        vertical-align: top;\n",
       "    }\n",
       "\n",
       "    .dataframe thead th {\n",
       "        text-align: right;\n",
       "    }\n",
       "</style>\n",
       "<table border=\"1\" class=\"dataframe\">\n",
       "  <thead>\n",
       "    <tr style=\"text-align: right;\">\n",
       "      <th></th>\n",
       "      <th>class</th>\n",
       "      <th>seq</th>\n",
       "    </tr>\n",
       "  </thead>\n",
       "  <tbody>\n",
       "    <tr>\n",
       "      <th>635191</th>\n",
       "      <td>Pseudomonas asplenii</td>\n",
       "      <td>ATCGCGCCCTTGGCGCGTACGCCGAGGCGGCCCTTGAAGTAGTCCC...</td>\n",
       "    </tr>\n",
       "    <tr>\n",
       "      <th>244197</th>\n",
       "      <td>Pseudomonas alkylphenolia</td>\n",
       "      <td>CCCGGTGGACGCCAAGGACCTGGCCACGCGCAAGCGGGTTGGCTTC...</td>\n",
       "    </tr>\n",
       "    <tr>\n",
       "      <th>1169029</th>\n",
       "      <td>Pseudomonas fragi</td>\n",
       "      <td>CAGCAGATGCGTGGGCAGGTTGATAGACACCGGAATGTCCCAGCCC...</td>\n",
       "    </tr>\n",
       "    <tr>\n",
       "      <th>1122975</th>\n",
       "      <td>Pseudomonas fragi</td>\n",
       "      <td>GGCTGAGTCAAAGCTCCCAAGGGTTGAGCACAGGAGCGCCGCTAAA...</td>\n",
       "    </tr>\n",
       "    <tr>\n",
       "      <th>157801</th>\n",
       "      <td>Pseudomonas alkylphenolia</td>\n",
       "      <td>TGATGCCCGGCACGCCCGACCCGTTGCAGGAAGGCGGCGATGGAGC...</td>\n",
       "    </tr>\n",
       "    <tr>\n",
       "      <th>1130481</th>\n",
       "      <td>Pseudomonas fragi</td>\n",
       "      <td>ATAACGGATGCTGCCTTGGGTCTGCACGTCTTTGCCCGGCAGCAGG...</td>\n",
       "    </tr>\n",
       "    <tr>\n",
       "      <th>1184779</th>\n",
       "      <td>Pseudomonas fragi</td>\n",
       "      <td>GGTCATTGGCGTACTGAGGACTGTGGGAGCGGGCTTGCTCGCGATT...</td>\n",
       "    </tr>\n",
       "    <tr>\n",
       "      <th>988574</th>\n",
       "      <td>Pseudomonas chengduensis</td>\n",
       "      <td>TTGCCCTGCTGCATCAGTTGCAGCAGCCGCTGGATCAGCGCTTCGT...</td>\n",
       "    </tr>\n",
       "    <tr>\n",
       "      <th>974175</th>\n",
       "      <td>Pseudomonas chengduensis</td>\n",
       "      <td>GACCAACAGTGCCGGAGAACAGCGGGGTACGTCCGGAGAACAGCAG...</td>\n",
       "    </tr>\n",
       "    <tr>\n",
       "      <th>1004579</th>\n",
       "      <td>Pseudomonas cremoricolorata</td>\n",
       "      <td>AGGTGCTGGGCAATCTGTCGCTGCTGGATGCACCGCAAAAGCGCAG...</td>\n",
       "    </tr>\n",
       "  </tbody>\n",
       "</table>\n",
       "</div>"
      ],
      "text/plain": [
       "                               class  \\\n",
       "635191          Pseudomonas asplenii   \n",
       "244197     Pseudomonas alkylphenolia   \n",
       "1169029            Pseudomonas fragi   \n",
       "1122975            Pseudomonas fragi   \n",
       "157801     Pseudomonas alkylphenolia   \n",
       "1130481            Pseudomonas fragi   \n",
       "1184779            Pseudomonas fragi   \n",
       "988574      Pseudomonas chengduensis   \n",
       "974175      Pseudomonas chengduensis   \n",
       "1004579  Pseudomonas cremoricolorata   \n",
       "\n",
       "                                                       seq  \n",
       "635191   ATCGCGCCCTTGGCGCGTACGCCGAGGCGGCCCTTGAAGTAGTCCC...  \n",
       "244197   CCCGGTGGACGCCAAGGACCTGGCCACGCGCAAGCGGGTTGGCTTC...  \n",
       "1169029  CAGCAGATGCGTGGGCAGGTTGATAGACACCGGAATGTCCCAGCCC...  \n",
       "1122975  GGCTGAGTCAAAGCTCCCAAGGGTTGAGCACAGGAGCGCCGCTAAA...  \n",
       "157801   TGATGCCCGGCACGCCCGACCCGTTGCAGGAAGGCGGCGATGGAGC...  \n",
       "1130481  ATAACGGATGCTGCCTTGGGTCTGCACGTCTTTGCCCGGCAGCAGG...  \n",
       "1184779  GGTCATTGGCGTACTGAGGACTGTGGGAGCGGGCTTGCTCGCGATT...  \n",
       "988574   TTGCCCTGCTGCATCAGTTGCAGCAGCCGCTGGATCAGCGCTTCGT...  \n",
       "974175   GACCAACAGTGCCGGAGAACAGCGGGGTACGTCCGGAGAACAGCAG...  \n",
       "1004579  AGGTGCTGGGCAATCTGTCGCTGCTGGATGCACCGCAAAAGCGCAG...  "
      ]
     },
     "execution_count": 7,
     "metadata": {},
     "output_type": "execute_result"
    }
   ],
   "source": [
    "data.sample(10)"
   ]
  },
  {
   "cell_type": "code",
   "execution_count": 8,
   "metadata": {
    "collapsed": false
   },
   "outputs": [
    {
     "name": "stdout",
     "output_type": "stream",
     "text": [
      "13459\n"
     ]
    }
   ],
   "source": [
    "current_size = data[data['class']=='Pseudomonas benzenivorans'].shape[0]\n",
    "print(current_size)"
   ]
  },
  {
   "cell_type": "code",
   "execution_count": 9,
   "metadata": {
    "collapsed": true
   },
   "outputs": [],
   "source": [
    "training_data_pos = data[data['class']=='Pseudomonas benzenivorans'].sample(int(current_size*0.8)) #80%"
   ]
  },
  {
   "cell_type": "code",
   "execution_count": 10,
   "metadata": {
    "collapsed": false
   },
   "outputs": [
    {
     "data": {
      "text/plain": [
       "90587.55555555556"
      ]
     },
     "execution_count": 10,
     "metadata": {},
     "output_type": "execute_result"
    }
   ],
   "source": [
    "(data[data['class']!='Pseudomonas benzenivorans'].shape[0]-int(current_size*0.8)*18)/18 "
   ]
  },
  {
   "cell_type": "code",
   "execution_count": 11,
   "metadata": {
    "collapsed": true
   },
   "outputs": [],
   "source": [
    "if (data[data['class']!='Pseudomonas benzenivorans'].shape[0]-int(current_size*0.8)*18)/18 >= 0:\n",
    "    training_data_neg = data[data['class']!='Pseudomonas benzenivorans'].sample(int(current_size*0.8)*18)\n",
    "else:\n",
    "    training_data_neg = data[data['class']!='Pseudomonas benzenivorans'].sample(int((data.shape[0]-current_size)*0.8))"
   ]
  },
  {
   "cell_type": "code",
   "execution_count": 12,
   "metadata": {
    "collapsed": false
   },
   "outputs": [
    {
     "name": "stderr",
     "output_type": "stream",
     "text": [
      "/usr/local/lib/python3.6/dist-packages/ipykernel_launcher.py:1: DeprecationWarning: \n",
      ".ix is deprecated. Please use\n",
      ".loc for label based indexing or\n",
      ".iloc for positional indexing\n",
      "\n",
      "See the documentation here:\n",
      "http://pandas.pydata.org/pandas-docs/stable/indexing.html#ix-indexer-is-deprecated\n",
      "  \"\"\"Entry point for launching an IPython kernel.\n",
      "/usr/local/lib/python3.6/dist-packages/ipykernel_launcher.py:2: DeprecationWarning: \n",
      ".ix is deprecated. Please use\n",
      ".loc for label based indexing or\n",
      ".iloc for positional indexing\n",
      "\n",
      "See the documentation here:\n",
      "http://pandas.pydata.org/pandas-docs/stable/indexing.html#ix-indexer-is-deprecated\n",
      "  \n"
     ]
    }
   ],
   "source": [
    "data_neg = data.ix[data.index.symmetric_difference(data[data['class']=='Pseudomonas benzenivorans'].index)]\n",
    "data_neg = data_neg.ix[data_neg.index.symmetric_difference(training_data_neg.index)]"
   ]
  },
  {
   "cell_type": "code",
   "execution_count": 13,
   "metadata": {
    "collapsed": false
   },
   "outputs": [
    {
     "name": "stdout",
     "output_type": "stream",
     "text": [
      "Pseudomonas aeruginosa\n",
      "Pseudomonas alkylphenolia\n",
      "Pseudomonas antarctica\n",
      "Pseudomonas argentinensis\n",
      "Pseudomonas arsenicoxydans\n",
      "Pseudomonas asplenii\n",
      "Pseudomonas bauzanensis\n",
      "Pseudomonas brassicacearum\n",
      "Pseudomonas cerasi\n",
      "Pseudomonas chengduensis\n",
      "Pseudomonas cremoricolorata\n",
      "Pseudomonas fragi\n",
      "Pseudomonas frederiksbergensis\n",
      "Pseudomonas granadensis\n",
      "Pseudomonas kuykendallii\n",
      "Pseudomonas lini\n",
      "Pseudomonas protegens\n",
      "Pseudomonas sp.\n"
     ]
    }
   ],
   "source": [
    "test_data_neg = pd.DataFrame([],columns=['class','seq'])\n",
    "names_no = names.tolist()\n",
    "names_no.remove('Pseudomonas benzenivorans')\n",
    "for name in names_no:    \n",
    "    print(name)\n",
    "    if data_neg[data_neg['class']==name].shape[0] > current_size*0.2:\n",
    "        test_data_neg = pd.concat([test_data_neg,data_neg[data_neg['class']==name].sample(int(current_size*0.2))])\n",
    "    else:\n",
    "        test_data_neg = pd.concat([test_data_neg,data_neg[data_neg['class']==name]])   "
   ]
  },
  {
   "cell_type": "code",
   "execution_count": 14,
   "metadata": {
    "collapsed": false
   },
   "outputs": [
    {
     "name": "stderr",
     "output_type": "stream",
     "text": [
      "/usr/local/lib/python3.6/dist-packages/ipykernel_launcher.py:1: DeprecationWarning: \n",
      ".ix is deprecated. Please use\n",
      ".loc for label based indexing or\n",
      ".iloc for positional indexing\n",
      "\n",
      "See the documentation here:\n",
      "http://pandas.pydata.org/pandas-docs/stable/indexing.html#ix-indexer-is-deprecated\n",
      "  \"\"\"Entry point for launching an IPython kernel.\n"
     ]
    }
   ],
   "source": [
    "test_data_pos = data[data['class']=='Pseudomonas benzenivorans'].ix[training_data_pos.index.symmetric_difference(data[data['class']=='Pseudomonas benzenivorans'].index)]"
   ]
  },
  {
   "cell_type": "code",
   "execution_count": 15,
   "metadata": {
    "collapsed": true
   },
   "outputs": [],
   "source": [
    "training_data = pd.concat([training_data_neg,training_data_pos]).sample(frac=1)\n",
    "test_data = pd.concat([test_data_neg,test_data_pos]).sample(frac=1)"
   ]
  },
  {
   "cell_type": "code",
   "execution_count": 16,
   "metadata": {
    "collapsed": true
   },
   "outputs": [],
   "source": [
    "_, trainocc = np.unique(training_data['class'], return_counts=True)"
   ]
  },
  {
   "cell_type": "code",
   "execution_count": 17,
   "metadata": {
    "collapsed": false
   },
   "outputs": [
    {
     "data": {
      "image/png": "[encoded data removed]",
      "text/plain": [
       "<matplotlib.figure.Figure at 0x7fd3c1968898>"
      ]
     },
     "metadata": {},
     "output_type": "display_data"
    }
   ],
   "source": [
    "index = np.arange(len(names))\n",
    "plt.bar(index, trainocc)\n",
    "plt.xlabel('Species', fontsize=5)\n",
    "plt.ylabel('Samples', fontsize=5)\n",
    "plt.xticks(index,names, fontsize=5, rotation=30)\n",
    "plt.show()"
   ]
  },
  {
   "cell_type": "code",
   "execution_count": 18,
   "metadata": {
    "collapsed": true
   },
   "outputs": [],
   "source": [
    "_, testocc = np.unique(test_data['class'], return_counts=True)"
   ]
  },
  {
   "cell_type": "code",
   "execution_count": 19,
   "metadata": {
    "collapsed": false
   },
   "outputs": [
    {
     "data": {
      "image/png": "[encoded data removed]",
      "text/plain": [
       "<matplotlib.figure.Figure at 0x7fd3c1018cc0>"
      ]
     },
     "metadata": {},
     "output_type": "display_data"
    }
   ],
   "source": [
    "index = np.arange(len(names))\n",
    "plt.bar(index, testocc)\n",
    "plt.xlabel('Species', fontsize=5)\n",
    "plt.ylabel('Samples', fontsize=5)\n",
    "plt.xticks(index,names, fontsize=5, rotation=30)\n",
    "plt.show()"
   ]
  },
  {
   "cell_type": "code",
   "execution_count": 20,
   "metadata": {
    "collapsed": false
   },
   "outputs": [
    {
     "name": "stdout",
     "output_type": "stream",
     "text": [
      "Preproc progress: 99.719904 \r"
     ]
    }
   ],
   "source": [
    "seq = []\n",
    "lun = 0\n",
    "for i in range(training_data.shape[0]):\n",
    "    if i % 1000 == 0:\n",
    "        sys.stdout.write('Preproc progress: %f \\r' % (i*100/training_data.shape[0]))\n",
    "        sys.stdout.flush()\n",
    "        clear_output(wait=True)\n",
    "    if training_data.iloc[i,0].strip() == 'Pseudomonas benzenivorans':\n",
    "        s = list(map(lambda x: int(ord(x)-65), list(training_data.iloc[i,1].strip()))) + [training_data.iloc[i,0].strip()]\n",
    "    else:\n",
    "        s = list(map(lambda x: int(ord(x)-65), list(training_data.iloc[i,1].strip()))) + ['other']\n",
    "    seq.append(s)\n",
    "seq = np.asarray(seq)"
   ]
  },
  {
   "cell_type": "code",
   "execution_count": 21,
   "metadata": {
    "collapsed": false
   },
   "outputs": [
    {
     "data": {
      "text/plain": [
       "array([['6', '6', '6', ..., '2', '19', 'Pseudomonas benzenivorans'],\n",
       "       ['6', '19', '2', ..., '19', '6', 'other'],\n",
       "       ['0', '19', '19', ..., '2', '6', 'other'],\n",
       "       ...,\n",
       "       ['2', '2', '19', ..., '19', '2', 'other'],\n",
       "       ['0', '19', '2', ..., '2', '2', 'other'],\n",
       "       ['19', '19', '2', ..., '0', '19', 'other']], dtype='<U25')"
      ]
     },
     "execution_count": 21,
     "metadata": {},
     "output_type": "execute_result"
    }
   ],
   "source": [
    "seq"
   ]
  },
  {
   "cell_type": "code",
   "execution_count": 22,
   "metadata": {
    "collapsed": false
   },
   "outputs": [
    {
     "name": "stdout",
     "output_type": "stream",
     "text": [
      "Preproc progress: 99.745746 \r"
     ]
    }
   ],
   "source": [
    "test_seq = []\n",
    "lun = 0\n",
    "for i in range(test_data.shape[0]):\n",
    "    if i % 1000 == 0:\n",
    "        sys.stdout.write('Preproc progress: %f \\r' % (i*100/test_data.shape[0]))\n",
    "        sys.stdout.flush()\n",
    "        clear_output(wait=True)\n",
    "    if test_data.iloc[i,0].strip() == 'Pseudomonas benzenivorans':\n",
    "        s = list(map(lambda x: int(ord(x)-65), list(test_data.iloc[i,1].strip()))) + [test_data.iloc[i,0].strip()]\n",
    "    else:\n",
    "        s = list(map(lambda x: int(ord(x)-65), list(test_data.iloc[i,1].strip()))) + ['other']\n",
    "    test_seq.append(s)\n",
    "test_seq = np.asarray(test_seq)"
   ]
  },
  {
   "cell_type": "code",
   "execution_count": 23,
   "metadata": {
    "collapsed": false
   },
   "outputs": [
    {
     "data": {
      "text/plain": [
       "array([['6', '0', '19', ..., '6', '2', 'other'],\n",
       "       ['6', '0', '6', ..., '6', '2', 'other'],\n",
       "       ['19', '6', '0', ..., '19', '6', 'other'],\n",
       "       ...,\n",
       "       ['19', '2', '6', ..., '6', '0', 'other'],\n",
       "       ['2', '19', '2', ..., '19', '2', 'other'],\n",
       "       ['2', '6', '2', ..., '0', '0', 'other']], dtype='<U25')"
      ]
     },
     "execution_count": 23,
     "metadata": {},
     "output_type": "execute_result"
    }
   ],
   "source": [
    "test_seq"
   ]
  },
  {
   "cell_type": "code",
   "execution_count": 24,
   "metadata": {
    "collapsed": true
   },
   "outputs": [],
   "source": [
    "X_train = seq[:,:-1]\n",
    "X_test = test_seq[:,:-1]\n",
    "y_train = seq[:,-1]\n",
    "y_test = test_seq[:,-1]\n",
    "\n",
    "X_train = X_train.astype('int')\n",
    "X_test = X_test.astype('int')"
   ]
  },
  {
   "cell_type": "code",
   "execution_count": 25,
   "metadata": {
    "collapsed": false
   },
   "outputs": [
    {
     "data": {
      "text/plain": [
       "array([ 6,  6,  6,  2,  0,  2, 19,  6,  6,  2, 19,  6, 19, 19,  2,  6,  2,\n",
       "        0,  2, 19,  6, 19, 19, 19,  6,  2,  6,  2,  0,  0,  2,  0,  0,  2,\n",
       "        0,  6,  2,  6,  6,  2,  0,  2, 19, 19,  2,  2, 19,  6,  0, 19,  6,\n",
       "        2,  6,  2,  2, 19,  6,  2,  2,  6, 19,  6, 19,  6,  6,  2, 19,  0,\n",
       "        2,  0,  0,  2,  6,  2,  6,  2,  0,  6,  6, 19, 19,  0,  0,  0,  2,\n",
       "        0,  0, 19, 19, 19,  2, 19,  2,  2,  6, 19, 19,  2,  6,  6,  6,  0,\n",
       "        2,  0,  6,  6,  2,  2,  6,  0,  6,  6,  0,  2,  0,  2,  6,  2, 19,\n",
       "        6,  2,  2,  2, 19, 19,  2,  6,  2,  6,  6,  2,  2,  0,  6, 19,  2,\n",
       "        0,  2,  6,  2,  2,  6,  0,  6,  6,  2,  6,  2,  6,  2,  2, 19,  6,\n",
       "       19, 19,  2, 19,  6,  2,  0,  2,  2,  6,  0,  6,  6,  2,  2,  6,  6,\n",
       "       19,  6, 19, 19,  6,  0, 19,  2,  2,  2,  6,  2,  6,  6,  2,  2,  2,\n",
       "        0,  6,  0, 19,  2,  0,  0,  0,  2, 19,  6,  2,  6,  6,  2, 19,  0,\n",
       "        0, 19,  2,  2,  6,  6,  0, 19,  2,  6,  0,  6, 19, 19,  6,  6,  2,\n",
       "        2,  6,  6,  2,  6,  6,  0,  6,  0,  0,  0,  6,  2,  6,  0,  6,  6,\n",
       "       19, 19,  2, 19,  6, 19, 19,  6,  0,  2,  2, 19])"
      ]
     },
     "execution_count": 25,
     "metadata": {},
     "output_type": "execute_result"
    }
   ],
   "source": [
    "X_train[0]"
   ]
  },
  {
   "cell_type": "code",
   "execution_count": 26,
   "metadata": {
    "collapsed": false
   },
   "outputs": [
    {
     "data": {
      "text/plain": [
       "14"
      ]
     },
     "execution_count": 26,
     "metadata": {},
     "output_type": "execute_result"
    }
   ],
   "source": [
    "import gc\n",
    "del data_neg\n",
    "del training_data_neg\n",
    "del training_data_pos\n",
    "del test_data_neg\n",
    "del test_data_pos\n",
    "gc.collect()"
   ]
  },
  {
   "cell_type": "code",
   "execution_count": 27,
   "metadata": {
    "collapsed": true
   },
   "outputs": [],
   "source": [
    "from sklearn.preprocessing import LabelBinarizer\n",
    "enc = LabelBinarizer()\n",
    "enc.fit(X_train.flatten().astype('str'))\n",
    "X_train = np.asarray(list(map(lambda x: enc.transform(x.astype('str')),X_train)))\n",
    "X_test = np.asarray(list(map(lambda x: enc.transform(x.astype('str')),X_test)))"
   ]
  },
  {
   "cell_type": "code",
   "execution_count": 28,
   "metadata": {
    "collapsed": true
   },
   "outputs": [],
   "source": [
    "encoder = LabelEncoder()\n",
    "encoder.fit(y_test)\n",
    "y_train = encoder.transform(y_train)\n",
    "y_train = np_utils.to_categorical(y_train)\n",
    "y_test = encoder.transform(y_test)\n",
    "y_test = np_utils.to_categorical(y_test)"
   ]
  },
  {
   "cell_type": "code",
   "execution_count": 29,
   "metadata": {
    "collapsed": false
   },
   "outputs": [
    {
     "name": "stdout",
     "output_type": "stream",
     "text": [
      "(204573, 250, 5)\n",
      "(51130, 250, 5)\n"
     ]
    }
   ],
   "source": [
    "print(X_train.shape)\n",
    "print(X_test.shape)"
   ]
  },
  {
   "cell_type": "code",
   "execution_count": 37,
   "metadata": {
    "collapsed": true
   },
   "outputs": [],
   "source": [
    "model = Sequential()\n",
    "model.add(layers.Conv1D(filters=128,kernel_size=28, strides=1, activation='relu', input_shape=(250, 5)))\n",
    "#model.add(layers.MaxPooling1D(2))\n",
    "model.add(BatchNormalization())\n",
    "model.add(layers.Conv1D(filters=128,kernel_size=5, strides=1, activation='relu'))\n",
    "model.add(layers.MaxPooling1D(2))\n",
    "model.add(layers.Conv1D(filters=128,kernel_size=3, strides=1, activation='relu'))\n",
    "model.add(layers.GlobalMaxPooling1D())\n",
    "model.add(layers.Dense(2, activation='softmax'))"
   ]
  },
  {
   "cell_type": "code",
   "execution_count": 38,
   "metadata": {
    "collapsed": false,
    "scrolled": false
   },
   "outputs": [
    {
     "name": "stdout",
     "output_type": "stream",
     "text": [
      "_________________________________________________________________\n",
      "Layer (type)                 Output Shape              Param #   \n",
      "=================================================================\n",
      "conv1d_1 (Conv1D)            (None, 223, 128)          18048     \n",
      "_________________________________________________________________\n",
      "batch_normalization_1 (Batch (None, 223, 128)          512       \n",
      "_________________________________________________________________\n",
      "conv1d_2 (Conv1D)            (None, 219, 128)          82048     \n",
      "_________________________________________________________________\n",
      "max_pooling1d_1 (MaxPooling1 (None, 109, 128)          0         \n",
      "_________________________________________________________________\n",
      "conv1d_3 (Conv1D)            (None, 107, 128)          49280     \n",
      "_________________________________________________________________\n",
      "global_max_pooling1d_1 (Glob (None, 128)               0         \n",
      "_________________________________________________________________\n",
      "dense_1 (Dense)              (None, 2)                 258       \n",
      "=================================================================\n",
      "Total params: 150,146\n",
      "Trainable params: 149,890\n",
      "Non-trainable params: 256\n",
      "_________________________________________________________________\n"
     ]
    }
   ],
   "source": [
    "model.summary()"
   ]
  },
  {
   "cell_type": "code",
   "execution_count": 146,
   "metadata": {
    "collapsed": true,
    "scrolled": true
   },
   "outputs": [],
   "source": [
    "opt = Adam(lr=0.0001, beta_1=0.9, beta_2=0.999, decay=0.0)\n",
    "model.compile(optimizer=opt, loss='categorical_crossentropy',metrics=['accuracy'])"
   ]
  },
  {
   "cell_type": "code",
   "execution_count": 147,
   "metadata": {
    "collapsed": false,
    "scrolled": false
   },
   "outputs": [
    {
     "name": "stdout",
     "output_type": "stream",
     "text": [
      "Train on 204573 samples, validate on 51130 samples\n",
      "Epoch 1/21\n",
      "204573/204573 [==============================] - 27s - loss: 0.2080 - acc: 0.9461 - val_loss: 0.2000 - val_acc: 0.9473\n",
      "Epoch 2/21\n",
      "204573/204573 [==============================] - 27s - loss: 0.1956 - acc: 0.9474 - val_loss: 0.1984 - val_acc: 0.9473\n",
      "Epoch 3/21\n",
      "204573/204573 [==============================] - 27s - loss: 0.1898 - acc: 0.9474 - val_loss: 0.1905 - val_acc: 0.9473\n",
      "Epoch 4/21\n",
      "204573/204573 [==============================] - 27s - loss: 0.1838 - acc: 0.9474 - val_loss: 0.1860 - val_acc: 0.9473\n",
      "Epoch 5/21\n",
      "204573/204573 [==============================] - 27s - loss: 0.1778 - acc: 0.9473 - val_loss: 0.1834 - val_acc: 0.9473\n",
      "Epoch 6/21\n",
      "204573/204573 [==============================] - 27s - loss: 0.1708 - acc: 0.9474 - val_loss: 0.1831 - val_acc: 0.9465\n",
      "Epoch 7/21\n",
      "204573/204573 [==============================] - 27s - loss: 0.1635 - acc: 0.9476 - val_loss: 0.1728 - val_acc: 0.9474\n",
      "Epoch 8/21\n",
      "204573/204573 [==============================] - 27s - loss: 0.1554 - acc: 0.9482 - val_loss: 0.1678 - val_acc: 0.9472\n",
      "Epoch 9/21\n",
      "204573/204573 [==============================] - 27s - loss: 0.1470 - acc: 0.9488 - val_loss: 0.1631 - val_acc: 0.9476\n",
      "Epoch 10/21\n",
      "204573/204573 [==============================] - 27s - loss: 0.1381 - acc: 0.9502 - val_loss: 0.1610 - val_acc: 0.9474\n",
      "Epoch 11/21\n",
      "204573/204573 [==============================] - 27s - loss: 0.1295 - acc: 0.9520 - val_loss: 0.1522 - val_acc: 0.9480\n",
      "Epoch 12/21\n",
      "204573/204573 [==============================] - 27s - loss: 0.1205 - acc: 0.9545 - val_loss: 0.1423 - val_acc: 0.9494\n",
      "Epoch 13/21\n",
      "204573/204573 [==============================] - 27s - loss: 0.1108 - acc: 0.9573 - val_loss: 0.1378 - val_acc: 0.9497\n",
      "Epoch 14/21\n",
      "204573/204573 [==============================] - 27s - loss: 0.1016 - acc: 0.9610 - val_loss: 0.1351 - val_acc: 0.9499\n",
      "Epoch 15/21\n",
      " 91750/204573 [============>.................] - ETA: 13s - loss: 0.0949 - acc: 0.9637"
     ]
    },
    {
     "ename": "KeyboardInterrupt",
     "evalue": "",
     "output_type": "error",
     "traceback": [
      "\u001b[0;31m---------------------------------------------------------------------------\u001b[0m",
      "\u001b[0;31mKeyboardInterrupt\u001b[0m                         Traceback (most recent call last)",
      "\u001b[0;32m<ipython-input-147-9146b0bd69ec>\u001b[0m in \u001b[0;36m<module>\u001b[0;34m()\u001b[0m\n\u001b[0;32m----> 1\u001b[0;31m \u001b[0mhistory\u001b[0m \u001b[0;34m=\u001b[0m \u001b[0mmodel\u001b[0m\u001b[0;34m.\u001b[0m\u001b[0mfit\u001b[0m\u001b[0;34m(\u001b[0m\u001b[0mX_train\u001b[0m\u001b[0;34m,\u001b[0m \u001b[0my_train\u001b[0m\u001b[0;34m,\u001b[0m \u001b[0mepochs\u001b[0m\u001b[0;34m=\u001b[0m\u001b[0;36m21\u001b[0m\u001b[0;34m,\u001b[0m \u001b[0mbatch_size\u001b[0m\u001b[0;34m=\u001b[0m\u001b[0;36m250\u001b[0m\u001b[0;34m,\u001b[0m \u001b[0mverbose\u001b[0m\u001b[0;34m=\u001b[0m\u001b[0;36m1\u001b[0m\u001b[0;34m,\u001b[0m \u001b[0mvalidation_data\u001b[0m\u001b[0;34m=\u001b[0m\u001b[0;34m(\u001b[0m\u001b[0mX_test\u001b[0m\u001b[0;34m,\u001b[0m\u001b[0my_test\u001b[0m\u001b[0;34m)\u001b[0m\u001b[0;34m)\u001b[0m\u001b[0;34m\u001b[0m\u001b[0m\n\u001b[0m",
      "\u001b[0;32m/usr/local/lib/python3.6/dist-packages/keras/models.py\u001b[0m in \u001b[0;36mfit\u001b[0;34m(self, x, y, batch_size, epochs, verbose, callbacks, validation_split, validation_data, shuffle, class_weight, sample_weight, initial_epoch, **kwargs)\u001b[0m\n\u001b[1;32m    865\u001b[0m                               \u001b[0mclass_weight\u001b[0m\u001b[0;34m=\u001b[0m\u001b[0mclass_weight\u001b[0m\u001b[0;34m,\u001b[0m\u001b[0;34m\u001b[0m\u001b[0m\n\u001b[1;32m    866\u001b[0m                               \u001b[0msample_weight\u001b[0m\u001b[0;34m=\u001b[0m\u001b[0msample_weight\u001b[0m\u001b[0;34m,\u001b[0m\u001b[0;34m\u001b[0m\u001b[0m\n\u001b[0;32m--> 867\u001b[0;31m                               initial_epoch=initial_epoch)\n\u001b[0m\u001b[1;32m    868\u001b[0m \u001b[0;34m\u001b[0m\u001b[0m\n\u001b[1;32m    869\u001b[0m     def evaluate(self, x, y, batch_size=32, verbose=1,\n",
      "\u001b[0;32m/usr/local/lib/python3.6/dist-packages/keras/engine/training.py\u001b[0m in \u001b[0;36mfit\u001b[0;34m(self, x, y, batch_size, epochs, verbose, callbacks, validation_split, validation_data, shuffle, class_weight, sample_weight, initial_epoch, steps_per_epoch, validation_steps, **kwargs)\u001b[0m\n\u001b[1;32m   1596\u001b[0m                               \u001b[0minitial_epoch\u001b[0m\u001b[0;34m=\u001b[0m\u001b[0minitial_epoch\u001b[0m\u001b[0;34m,\u001b[0m\u001b[0;34m\u001b[0m\u001b[0m\n\u001b[1;32m   1597\u001b[0m                               \u001b[0msteps_per_epoch\u001b[0m\u001b[0;34m=\u001b[0m\u001b[0msteps_per_epoch\u001b[0m\u001b[0;34m,\u001b[0m\u001b[0;34m\u001b[0m\u001b[0m\n\u001b[0;32m-> 1598\u001b[0;31m                               validation_steps=validation_steps)\n\u001b[0m\u001b[1;32m   1599\u001b[0m \u001b[0;34m\u001b[0m\u001b[0m\n\u001b[1;32m   1600\u001b[0m     def evaluate(self, x, y,\n",
      "\u001b[0;32m/usr/local/lib/python3.6/dist-packages/keras/engine/training.py\u001b[0m in \u001b[0;36m_fit_loop\u001b[0;34m(self, f, ins, out_labels, batch_size, epochs, verbose, callbacks, val_f, val_ins, shuffle, callback_metrics, initial_epoch, steps_per_epoch, validation_steps)\u001b[0m\n\u001b[1;32m   1181\u001b[0m                     \u001b[0mbatch_logs\u001b[0m\u001b[0;34m[\u001b[0m\u001b[0;34m'size'\u001b[0m\u001b[0;34m]\u001b[0m \u001b[0;34m=\u001b[0m \u001b[0mlen\u001b[0m\u001b[0;34m(\u001b[0m\u001b[0mbatch_ids\u001b[0m\u001b[0;34m)\u001b[0m\u001b[0;34m\u001b[0m\u001b[0m\n\u001b[1;32m   1182\u001b[0m                     \u001b[0mcallbacks\u001b[0m\u001b[0;34m.\u001b[0m\u001b[0mon_batch_begin\u001b[0m\u001b[0;34m(\u001b[0m\u001b[0mbatch_index\u001b[0m\u001b[0;34m,\u001b[0m \u001b[0mbatch_logs\u001b[0m\u001b[0;34m)\u001b[0m\u001b[0;34m\u001b[0m\u001b[0m\n\u001b[0;32m-> 1183\u001b[0;31m                     \u001b[0mouts\u001b[0m \u001b[0;34m=\u001b[0m \u001b[0mf\u001b[0m\u001b[0;34m(\u001b[0m\u001b[0mins_batch\u001b[0m\u001b[0;34m)\u001b[0m\u001b[0;34m\u001b[0m\u001b[0m\n\u001b[0m\u001b[1;32m   1184\u001b[0m                     \u001b[0;32mif\u001b[0m \u001b[0;32mnot\u001b[0m \u001b[0misinstance\u001b[0m\u001b[0;34m(\u001b[0m\u001b[0mouts\u001b[0m\u001b[0;34m,\u001b[0m \u001b[0mlist\u001b[0m\u001b[0;34m)\u001b[0m\u001b[0;34m:\u001b[0m\u001b[0;34m\u001b[0m\u001b[0m\n\u001b[1;32m   1185\u001b[0m                         \u001b[0mouts\u001b[0m \u001b[0;34m=\u001b[0m \u001b[0;34m[\u001b[0m\u001b[0mouts\u001b[0m\u001b[0;34m]\u001b[0m\u001b[0;34m\u001b[0m\u001b[0m\n",
      "\u001b[0;32m/usr/local/lib/python3.6/dist-packages/keras/backend/tensorflow_backend.py\u001b[0m in \u001b[0;36m__call__\u001b[0;34m(self, inputs)\u001b[0m\n\u001b[1;32m   2271\u001b[0m         updated = session.run(self.outputs + [self.updates_op],\n\u001b[1;32m   2272\u001b[0m                               \u001b[0mfeed_dict\u001b[0m\u001b[0;34m=\u001b[0m\u001b[0mfeed_dict\u001b[0m\u001b[0;34m,\u001b[0m\u001b[0;34m\u001b[0m\u001b[0m\n\u001b[0;32m-> 2273\u001b[0;31m                               **self.session_kwargs)\n\u001b[0m\u001b[1;32m   2274\u001b[0m         \u001b[0;32mreturn\u001b[0m \u001b[0mupdated\u001b[0m\u001b[0;34m[\u001b[0m\u001b[0;34m:\u001b[0m\u001b[0mlen\u001b[0m\u001b[0;34m(\u001b[0m\u001b[0mself\u001b[0m\u001b[0;34m.\u001b[0m\u001b[0moutputs\u001b[0m\u001b[0;34m)\u001b[0m\u001b[0;34m]\u001b[0m\u001b[0;34m\u001b[0m\u001b[0m\n\u001b[1;32m   2275\u001b[0m \u001b[0;34m\u001b[0m\u001b[0m\n",
      "\u001b[0;32m/usr/local/lib/python3.6/dist-packages/tensorflow/python/client/session.py\u001b[0m in \u001b[0;36mrun\u001b[0;34m(self, fetches, feed_dict, options, run_metadata)\u001b[0m\n\u001b[1;32m    903\u001b[0m     \u001b[0;32mtry\u001b[0m\u001b[0;34m:\u001b[0m\u001b[0;34m\u001b[0m\u001b[0m\n\u001b[1;32m    904\u001b[0m       result = self._run(None, fetches, feed_dict, options_ptr,\n\u001b[0;32m--> 905\u001b[0;31m                          run_metadata_ptr)\n\u001b[0m\u001b[1;32m    906\u001b[0m       \u001b[0;32mif\u001b[0m \u001b[0mrun_metadata\u001b[0m\u001b[0;34m:\u001b[0m\u001b[0;34m\u001b[0m\u001b[0m\n\u001b[1;32m    907\u001b[0m         \u001b[0mproto_data\u001b[0m \u001b[0;34m=\u001b[0m \u001b[0mtf_session\u001b[0m\u001b[0;34m.\u001b[0m\u001b[0mTF_GetBuffer\u001b[0m\u001b[0;34m(\u001b[0m\u001b[0mrun_metadata_ptr\u001b[0m\u001b[0;34m)\u001b[0m\u001b[0;34m\u001b[0m\u001b[0m\n",
      "\u001b[0;32m/usr/local/lib/python3.6/dist-packages/tensorflow/python/client/session.py\u001b[0m in \u001b[0;36m_run\u001b[0;34m(self, handle, fetches, feed_dict, options, run_metadata)\u001b[0m\n\u001b[1;32m   1135\u001b[0m     \u001b[0;32mif\u001b[0m \u001b[0mfinal_fetches\u001b[0m \u001b[0;32mor\u001b[0m \u001b[0mfinal_targets\u001b[0m \u001b[0;32mor\u001b[0m \u001b[0;34m(\u001b[0m\u001b[0mhandle\u001b[0m \u001b[0;32mand\u001b[0m \u001b[0mfeed_dict_tensor\u001b[0m\u001b[0;34m)\u001b[0m\u001b[0;34m:\u001b[0m\u001b[0;34m\u001b[0m\u001b[0m\n\u001b[1;32m   1136\u001b[0m       results = self._do_run(handle, final_targets, final_fetches,\n\u001b[0;32m-> 1137\u001b[0;31m                              feed_dict_tensor, options, run_metadata)\n\u001b[0m\u001b[1;32m   1138\u001b[0m     \u001b[0;32melse\u001b[0m\u001b[0;34m:\u001b[0m\u001b[0;34m\u001b[0m\u001b[0m\n\u001b[1;32m   1139\u001b[0m       \u001b[0mresults\u001b[0m \u001b[0;34m=\u001b[0m \u001b[0;34m[\u001b[0m\u001b[0;34m]\u001b[0m\u001b[0;34m\u001b[0m\u001b[0m\n",
      "\u001b[0;32m/usr/local/lib/python3.6/dist-packages/tensorflow/python/client/session.py\u001b[0m in \u001b[0;36m_do_run\u001b[0;34m(self, handle, target_list, fetch_list, feed_dict, options, run_metadata)\u001b[0m\n\u001b[1;32m   1353\u001b[0m     \u001b[0;32mif\u001b[0m \u001b[0mhandle\u001b[0m \u001b[0;32mis\u001b[0m \u001b[0;32mNone\u001b[0m\u001b[0;34m:\u001b[0m\u001b[0;34m\u001b[0m\u001b[0m\n\u001b[1;32m   1354\u001b[0m       return self._do_call(_run_fn, self._session, feeds, fetches, targets,\n\u001b[0;32m-> 1355\u001b[0;31m                            options, run_metadata)\n\u001b[0m\u001b[1;32m   1356\u001b[0m     \u001b[0;32melse\u001b[0m\u001b[0;34m:\u001b[0m\u001b[0;34m\u001b[0m\u001b[0m\n\u001b[1;32m   1357\u001b[0m       \u001b[0;32mreturn\u001b[0m \u001b[0mself\u001b[0m\u001b[0;34m.\u001b[0m\u001b[0m_do_call\u001b[0m\u001b[0;34m(\u001b[0m\u001b[0m_prun_fn\u001b[0m\u001b[0;34m,\u001b[0m \u001b[0mself\u001b[0m\u001b[0;34m.\u001b[0m\u001b[0m_session\u001b[0m\u001b[0;34m,\u001b[0m \u001b[0mhandle\u001b[0m\u001b[0;34m,\u001b[0m \u001b[0mfeeds\u001b[0m\u001b[0;34m,\u001b[0m \u001b[0mfetches\u001b[0m\u001b[0;34m)\u001b[0m\u001b[0;34m\u001b[0m\u001b[0m\n",
      "\u001b[0;32m/usr/local/lib/python3.6/dist-packages/tensorflow/python/client/session.py\u001b[0m in \u001b[0;36m_do_call\u001b[0;34m(self, fn, *args)\u001b[0m\n\u001b[1;32m   1359\u001b[0m   \u001b[0;32mdef\u001b[0m \u001b[0m_do_call\u001b[0m\u001b[0;34m(\u001b[0m\u001b[0mself\u001b[0m\u001b[0;34m,\u001b[0m \u001b[0mfn\u001b[0m\u001b[0;34m,\u001b[0m \u001b[0;34m*\u001b[0m\u001b[0margs\u001b[0m\u001b[0;34m)\u001b[0m\u001b[0;34m:\u001b[0m\u001b[0;34m\u001b[0m\u001b[0m\n\u001b[1;32m   1360\u001b[0m     \u001b[0;32mtry\u001b[0m\u001b[0;34m:\u001b[0m\u001b[0;34m\u001b[0m\u001b[0m\n\u001b[0;32m-> 1361\u001b[0;31m       \u001b[0;32mreturn\u001b[0m \u001b[0mfn\u001b[0m\u001b[0;34m(\u001b[0m\u001b[0;34m*\u001b[0m\u001b[0margs\u001b[0m\u001b[0;34m)\u001b[0m\u001b[0;34m\u001b[0m\u001b[0m\n\u001b[0m\u001b[1;32m   1362\u001b[0m     \u001b[0;32mexcept\u001b[0m \u001b[0merrors\u001b[0m\u001b[0;34m.\u001b[0m\u001b[0mOpError\u001b[0m \u001b[0;32mas\u001b[0m \u001b[0me\u001b[0m\u001b[0;34m:\u001b[0m\u001b[0;34m\u001b[0m\u001b[0m\n\u001b[1;32m   1363\u001b[0m       \u001b[0mmessage\u001b[0m \u001b[0;34m=\u001b[0m \u001b[0mcompat\u001b[0m\u001b[0;34m.\u001b[0m\u001b[0mas_text\u001b[0m\u001b[0;34m(\u001b[0m\u001b[0me\u001b[0m\u001b[0;34m.\u001b[0m\u001b[0mmessage\u001b[0m\u001b[0;34m)\u001b[0m\u001b[0;34m\u001b[0m\u001b[0m\n",
      "\u001b[0;32m/usr/local/lib/python3.6/dist-packages/tensorflow/python/client/session.py\u001b[0m in \u001b[0;36m_run_fn\u001b[0;34m(session, feed_dict, fetch_list, target_list, options, run_metadata)\u001b[0m\n\u001b[1;32m   1338\u001b[0m         \u001b[0;32melse\u001b[0m\u001b[0;34m:\u001b[0m\u001b[0;34m\u001b[0m\u001b[0m\n\u001b[1;32m   1339\u001b[0m           return tf_session.TF_Run(session, options, feed_dict, fetch_list,\n\u001b[0;32m-> 1340\u001b[0;31m                                    target_list, status, run_metadata)\n\u001b[0m\u001b[1;32m   1341\u001b[0m \u001b[0;34m\u001b[0m\u001b[0m\n\u001b[1;32m   1342\u001b[0m     \u001b[0;32mdef\u001b[0m \u001b[0m_prun_fn\u001b[0m\u001b[0;34m(\u001b[0m\u001b[0msession\u001b[0m\u001b[0;34m,\u001b[0m \u001b[0mhandle\u001b[0m\u001b[0;34m,\u001b[0m \u001b[0mfeed_dict\u001b[0m\u001b[0;34m,\u001b[0m \u001b[0mfetch_list\u001b[0m\u001b[0;34m)\u001b[0m\u001b[0;34m:\u001b[0m\u001b[0;34m\u001b[0m\u001b[0m\n",
      "\u001b[0;31mKeyboardInterrupt\u001b[0m: "
     ]
    }
   ],
   "source": [
    "history = model.fit(X_train, y_train, epochs=21, batch_size=250, verbose=1, validation_data=(X_test,y_test))"
   ]
  },
  {
   "cell_type": "code",
   "execution_count": null,
   "metadata": {
    "collapsed": true,
    "scrolled": true
   },
   "outputs": [],
   "source": [
    "get_ipython().magic(u'matplotlib inline')\n",
    "plt.plot(range(1,22), history.history['loss'])\n",
    "plt.plot(range(1,22), history.history['val_loss'])"
   ]
  },
  {
   "cell_type": "code",
   "execution_count": 39,
   "metadata": {
    "collapsed": true,
    "scrolled": false
   },
   "outputs": [],
   "source": [
    "model.save('TT_50_1AA.h5')\n",
    "model.save_weights('TT_50_1AA_w.h5')"
   ]
  },
  {
   "cell_type": "code",
   "execution_count": 30,
   "metadata": {
    "collapsed": false
   },
   "outputs": [
    {
     "name": "stdout",
     "output_type": "stream",
     "text": [
      "WARNING:tensorflow:From /usr/local/lib/python3.6/dist-packages/tensorflow/python/util/deprecation.py:497: calling conv1d (from tensorflow.python.ops.nn_ops) with data_format=NHWC is deprecated and will be removed in a future version.\n",
      "Instructions for updating:\n",
      "`NHWC` for data_format is deprecated, use `NWC` instead\n",
      "WARNING:tensorflow:From /usr/local/lib/python3.6/dist-packages/keras/backend/tensorflow_backend.py:1154: calling reduce_max (from tensorflow.python.ops.math_ops) with keep_dims is deprecated and will be removed in a future version.\n",
      "Instructions for updating:\n",
      "keep_dims is deprecated, use keepdims instead\n",
      "WARNING:tensorflow:From /usr/local/lib/python3.6/dist-packages/keras/backend/tensorflow_backend.py:2755: calling reduce_sum (from tensorflow.python.ops.math_ops) with keep_dims is deprecated and will be removed in a future version.\n",
      "Instructions for updating:\n",
      "keep_dims is deprecated, use keepdims instead\n",
      "WARNING:tensorflow:From /usr/local/lib/python3.6/dist-packages/keras/backend/tensorflow_backend.py:1290: calling reduce_mean (from tensorflow.python.ops.math_ops) with keep_dims is deprecated and will be removed in a future version.\n",
      "Instructions for updating:\n",
      "keep_dims is deprecated, use keepdims instead\n"
     ]
    }
   ],
   "source": [
    "from keras.models import load_model\n",
    "model = load_model('TT_50_1AA.h5')"
   ]
  },
  {
   "cell_type": "code",
   "execution_count": 31,
   "metadata": {
    "collapsed": true
   },
   "outputs": [],
   "source": [
    "from sklearn.metrics import confusion_matrix, recall_score, precision_score, f1_score\n",
    "pred = model.predict(X_test, batch_size=1, verbose=0)"
   ]
  },
  {
   "cell_type": "code",
   "execution_count": 32,
   "metadata": {
    "collapsed": false
   },
   "outputs": [
    {
     "name": "stderr",
     "output_type": "stream",
     "text": [
      "/usr/lib/python3/dist-packages/sklearn/preprocessing/label.py:151: DeprecationWarning: The truth value of an empty array is ambiguous. Returning False, but in future this will result in an error. Use `array.size > 0` to check that an array is not empty.\n",
      "  if diff:\n",
      "/usr/lib/python3/dist-packages/sklearn/preprocessing/label.py:151: DeprecationWarning: The truth value of an empty array is ambiguous. Returning False, but in future this will result in an error. Use `array.size > 0` to check that an array is not empty.\n",
      "  if diff:\n"
     ]
    },
    {
     "data": {
      "text/plain": [
       "array([[ 2655,    37],\n",
       "       [   76, 48362]])"
      ]
     },
     "execution_count": 32,
     "metadata": {},
     "output_type": "execute_result"
    }
   ],
   "source": [
    "confusion_matrix(encoder.inverse_transform(np.argmax(y_test, axis=1)),encoder.inverse_transform(np.argmax(pred, axis=1)))"
   ]
  },
  {
   "cell_type": "code",
   "execution_count": 33,
   "metadata": {
    "collapsed": false
   },
   "outputs": [
    {
     "name": "stderr",
     "output_type": "stream",
     "text": [
      "/usr/lib/python3/dist-packages/sklearn/preprocessing/label.py:151: DeprecationWarning: The truth value of an empty array is ambiguous. Returning False, but in future this will result in an error. Use `array.size > 0` to check that an array is not empty.\n",
      "  if diff:\n",
      "/usr/lib/python3/dist-packages/sklearn/preprocessing/label.py:151: DeprecationWarning: The truth value of an empty array is ambiguous. Returning False, but in future this will result in an error. Use `array.size > 0` to check that an array is not empty.\n",
      "  if diff:\n"
     ]
    },
    {
     "data": {
      "text/plain": [
       "0.9721713658000732"
      ]
     },
     "execution_count": 33,
     "metadata": {},
     "output_type": "execute_result"
    }
   ],
   "source": [
    "precision_score(encoder.inverse_transform(np.argmax(y_test, axis=1)),encoder.inverse_transform(np.argmax(pred, axis=1)), pos_label='Pseudomonas benzenivorans')"
   ]
  },
  {
   "cell_type": "code",
   "execution_count": 34,
   "metadata": {
    "collapsed": false
   },
   "outputs": [
    {
     "name": "stderr",
     "output_type": "stream",
     "text": [
      "/usr/lib/python3/dist-packages/sklearn/preprocessing/label.py:151: DeprecationWarning: The truth value of an empty array is ambiguous. Returning False, but in future this will result in an error. Use `array.size > 0` to check that an array is not empty.\n",
      "  if diff:\n",
      "/usr/lib/python3/dist-packages/sklearn/preprocessing/label.py:151: DeprecationWarning: The truth value of an empty array is ambiguous. Returning False, but in future this will result in an error. Use `array.size > 0` to check that an array is not empty.\n",
      "  if diff:\n"
     ]
    },
    {
     "data": {
      "text/plain": [
       "0.986255572065379"
      ]
     },
     "execution_count": 34,
     "metadata": {},
     "output_type": "execute_result"
    }
   ],
   "source": [
    "recall_score(encoder.inverse_transform(np.argmax(y_test, axis=1)),encoder.inverse_transform(np.argmax(pred, axis=1)), pos_label='Pseudomonas benzenivorans')"
   ]
  },
  {
   "cell_type": "code",
   "execution_count": 35,
   "metadata": {
    "collapsed": false
   },
   "outputs": [
    {
     "name": "stderr",
     "output_type": "stream",
     "text": [
      "/usr/lib/python3/dist-packages/sklearn/preprocessing/label.py:151: DeprecationWarning: The truth value of an empty array is ambiguous. Returning False, but in future this will result in an error. Use `array.size > 0` to check that an array is not empty.\n",
      "  if diff:\n",
      "/usr/lib/python3/dist-packages/sklearn/preprocessing/label.py:151: DeprecationWarning: The truth value of an empty array is ambiguous. Returning False, but in future this will result in an error. Use `array.size > 0` to check that an array is not empty.\n",
      "  if diff:\n"
     ]
    },
    {
     "data": {
      "text/plain": [
       "0.97916282500461"
      ]
     },
     "execution_count": 35,
     "metadata": {},
     "output_type": "execute_result"
    }
   ],
   "source": [
    "f1_score(encoder.inverse_transform(np.argmax(y_test, axis=1)),encoder.inverse_transform(np.argmax(pred, axis=1)), pos_label='Pseudomonas benzenivorans')"
   ]
  },
  {
   "cell_type": "code",
   "execution_count": 36,
   "metadata": {
    "collapsed": false
   },
   "outputs": [
    {
     "name": "stderr",
     "output_type": "stream",
     "text": [
      "/usr/lib/python3/dist-packages/sklearn/preprocessing/label.py:151: DeprecationWarning: The truth value of an empty array is ambiguous. Returning False, but in future this will result in an error. Use `array.size > 0` to check that an array is not empty.\n",
      "  if diff:\n",
      "/usr/lib/python3/dist-packages/sklearn/preprocessing/label.py:151: DeprecationWarning: The truth value of an empty array is ambiguous. Returning False, but in future this will result in an error. Use `array.size > 0` to check that an array is not empty.\n",
      "  if diff:\n"
     ]
    },
    {
     "data": {
      "text/plain": [
       "0.9988330906574967"
      ]
     },
     "execution_count": 36,
     "metadata": {},
     "output_type": "execute_result"
    }
   ],
   "source": [
    "f1_score(encoder.inverse_transform(np.argmax(y_test, axis=1)),encoder.inverse_transform(np.argmax(pred, axis=1)), pos_label='other')"
   ]
  },
  {
   "cell_type": "code",
   "execution_count": 88,
   "metadata": {
    "collapsed": false
   },
   "outputs": [
    {
     "name": "stdout",
     "output_type": "stream",
     "text": [
      "5\n",
      "[0.09863809 0.90136194]\n",
      "(1, 250, 5)\n",
      "(219, 128)\n"
     ]
    },
    {
     "data": {
      "image/png": "[encoded data removed]",
      "text/plain": [
       "<matplotlib.figure.Figure at 0x7fcda2f2c7f0>"
      ]
     },
     "metadata": {},
     "output_type": "display_data"
    }
   ],
   "source": [
    "count = 0\n",
    "while (y_test[count] == [1,0]).sum() != 2 :\n",
    "    count+=1\n",
    "print(count)\n",
    "print(pred[count])\n",
    "\n",
    "model2 = Sequential()\n",
    "model2.add(model.layers[0])\n",
    "\n",
    "dna_batch = np.expand_dims(X_test[count],axis=0)\n",
    "print(dna_batch.shape)\n",
    "conv_dna = model2.predict(dna_batch)\n",
    "dna = np.squeeze(conv_dna,axis=0)\n",
    "print(dna.shape)\n",
    "plt.imshow(dna,cmap='Greys',interpolation='nearest',aspect='auto')\n",
    "plt.show()"
   ]
  },
  {
   "cell_type": "code",
   "execution_count": 45,
   "metadata": {
    "collapsed": true
   },
   "outputs": [],
   "source": [
    "model2 = Sequential()\n",
    "model2.add(model.layers[1])"
   ]
  },
  {
   "cell_type": "code",
   "execution_count": 89,
   "metadata": {
    "collapsed": false
   },
   "outputs": [
    {
     "name": "stdout",
     "output_type": "stream",
     "text": [
      "51130\n"
     ]
    }
   ],
   "source": [
    "count = 0\n",
    "pos_ex = []\n",
    "kernel_act = np.zeros((1,128))\n",
    "kernel_act2 = np.zeros((1,128))\n",
    "for p,t in zip(pred,y_test):\n",
    "    if t[0] > t[1] and p[0] > p[1] and p[0] > 0.999:\n",
    "        pos_ex.append(enc.inverse_transform(X_test[count,:]))\n",
    "        dna_batch = np.expand_dims(X_test[count],axis=0)\n",
    "        conv_dna = model2.predict(dna_batch)\n",
    "        feature_map = np.squeeze(conv_dna,axis=0)\n",
    "        kernel_act = np.vstack([kernel_act,feature_map.argmax(axis=0)])\n",
    "        kernel_act2 = np.vstack([kernel_act2,feature_map.max(axis=0)])\n",
    "    count += 1\n",
    "pos_ex = np.asarray(pos_ex)\n",
    "kernel_act = kernel_act[1:,:].astype(int)\n",
    "kernel_act2 = kernel_act2[1:,:]\n",
    "print(count)\n"
   ]
  },
  {
   "cell_type": "code",
   "execution_count": 92,
   "metadata": {
    "collapsed": false
   },
   "outputs": [
    {
     "data": {
      "text/plain": [
       "95"
      ]
     },
     "execution_count": 92,
     "metadata": {},
     "output_type": "execute_result"
    }
   ],
   "source": [
    "kernel_act2.mean(axis=0).argmax()"
   ]
  },
  {
   "cell_type": "code",
   "execution_count": 91,
   "metadata": {
    "collapsed": true,
    "scrolled": false
   },
   "outputs": [],
   "source": [
    "seq_inv = []\n",
    "lun = 0\n",
    "for i in range(pos_ex.shape[0]):\n",
    "    s = list(map(lambda x: chr(int(x)+65),pos_ex[i,:]))\n",
    "    seq_inv.append(''.join(s))\n",
    "seq_inv = np.asarray(seq_inv)"
   ]
  },
  {
   "cell_type": "code",
   "execution_count": 93,
   "metadata": {
    "collapsed": true
   },
   "outputs": [],
   "source": [
    "seeds = []\n",
    "count = 0\n",
    "k = 95\n",
    "for i in kernel_act[:,k]:\n",
    "    if kernel_act2[i,k] > np.percentile(kernel_act2[:,k],97):\n",
    "        string = seq_inv[count]\n",
    "        seeds.append(string[i:i+28])\n",
    "#seeds = np.asarray(seeds)"
   ]
  },
  {
   "cell_type": "code",
   "execution_count": 94,
   "metadata": {
    "collapsed": false
   },
   "outputs": [
    {
     "data": {
      "text/plain": [
       "6"
      ]
     },
     "execution_count": 94,
     "metadata": {},
     "output_type": "execute_result"
    }
   ],
   "source": [
    "len(seeds)"
   ]
  },
  {
   "cell_type": "code",
   "execution_count": 95,
   "metadata": {
    "collapsed": true
   },
   "outputs": [],
   "source": [
    "import os\n",
    "from io import StringIO\n",
    "import weblogolib as w\n",
    "\n",
    "class RefSeqColor(w.ColorRule):\n",
    "    \"\"\"\n",
    "    Color the given reference sequence in its own color, so you can easily see \n",
    "    which positions match that sequence and which don't.\n",
    "    \"\"\"\n",
    "\n",
    "    def __init__(self, ref_seq, color, description=None):\n",
    "        self.ref_seq = ref_seq\n",
    "        self.color = w.Color.from_string(color)\n",
    "        self.description = description\n",
    "\n",
    "    def symbol_color(self, seq_index, symbol, rank):\n",
    "        if symbol == self.ref_seq[seq_index]:\n",
    "            return self.color\n",
    "\n",
    "baserules = [\n",
    "            w.SymbolColor(\"G\", \"green\", \"polar\"),\n",
    "            w.SymbolColor(\"C\", \"orange\", \"neutral\"),\n",
    "            w.SymbolColor(\"T\", \"blue\", \"basic\"),\n",
    "            w.SymbolColor(\"A\", \"red\", \"acidic\"),\n",
    "        ]\n",
    "\n",
    "protein_alphabet = w.Alphabet('ACDEFGHIKLMNOPQRSTUVWYBJZX*-adefghiklmnopqrstuvwybjzx', [])\n",
    "\n",
    "def plotseqlogo(refseq, mseqs, name):\n",
    "    fasta = \"> \\n\" + \"\\n> \\n\".join(mseqs)\n",
    "    seqs = w.read_seq_data(StringIO(fasta), alphabet=protein_alphabet)\n",
    "\n",
    "    colorscheme = w.ColorScheme(baserules,\n",
    "                                alphabet = protein_alphabet)\n",
    "\n",
    "    data = w.LogoData.from_seqs(seqs)\n",
    "    options = w.LogoOptions()\n",
    "    # options.logo_title = name\n",
    "    options.show_fineprint = False\n",
    "    options.yaxis_label = \"\"\n",
    "    options.color_scheme = colorscheme\n",
    "    mformat = w.LogoFormat(data, options)\n",
    "\n",
    "    fname = \"%s.pdf\" % name\n",
    "    with open(fname, \"wb\") as f:\n",
    "        f.write(w.pdf_formatter(data, mformat))\n",
    "\n",
    "if __name__ == \"__main__\":\n",
    "    testdata = seeds\n",
    "    plotseqlogo(seeds[0], testdata, 'testdata')"
   ]
  },
  {
   "cell_type": "code",
   "execution_count": null,
   "metadata": {
    "collapsed": true
   },
   "outputs": [],
   "source": [
    "[RefSeqColor(refseq, \"orange\", \"refseq\")] + "
   ]
  },
  {
   "cell_type": "code",
   "execution_count": 125,
   "metadata": {
    "collapsed": false
   },
   "outputs": [
    {
     "data": {
      "text/plain": [
       "3.3000000000000003"
      ]
     },
     "execution_count": 125,
     "metadata": {},
     "output_type": "execute_result"
    }
   ],
   "source": [
    "np.percentile(np.asarray([0,1,2,3,4,5,6,7,8,9,10]),33)"
   ]
  },
  {
   "cell_type": "code",
   "execution_count": 13,
   "metadata": {
    "collapsed": true
   },
   "outputs": [],
   "source": [
    "w = w.tomutable()"
   ]
  },
  {
   "cell_type": "code",
   "execution_count": 16,
   "metadata": {
    "collapsed": false
   },
   "outputs": [
    {
     "data": {
      "text/plain": [
       "50"
      ]
     },
     "execution_count": 16,
     "metadata": {},
     "output_type": "execute_result"
    }
   ],
   "source": []
  },
  {
   "cell_type": "code",
   "execution_count": null,
   "metadata": {
    "collapsed": true
   },
   "outputs": [],
   "source": []
  }
 ],
 "metadata": {
  "kernelspec": {
   "display_name": "Python 3",
   "language": "python",
   "name": "python3"
  },
  "language_info": {
   "codemirror_mode": {
    "name": "ipython",
    "version": 3
   },
   "file_extension": ".py",
   "mimetype": "text/x-python",
   "name": "python",
   "nbconvert_exporter": "python",
   "pygments_lexer": "ipython3",
   "version": "3.5.2"
  }
 },
 "nbformat": 4,
 "nbformat_minor": 2
}

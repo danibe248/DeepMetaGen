{
 "cells": [
  {
   "cell_type": "code",
   "execution_count": 37,
   "metadata": {
    "collapsed": true
   },
   "outputs": [],
   "source": [
    "import pandas as pd\n",
    "import numpy as np\n",
    "from Bio import SeqIO\n",
    "import sys\n",
    "from IPython.display import clear_output"
   ]
  },
  {
   "cell_type": "code",
   "execution_count": 204,
   "metadata": {
    "scrolled": true
   },
   "outputs": [
    {
     "name": "stdout",
     "output_type": "stream",
     "text": [
      "Pseudomonas granadensis\n"
     ]
    }
   ],
   "source": [
    "genome = list(SeqIO.parse('Datasets/20_genomes_species/Pseudomonas_gardenis.fasta','fasta'))[0]\n",
    "spec = ' '.join(genome.description.split(' ')[1:3])\n",
    "print(spec)"
   ]
  },
  {
   "cell_type": "code",
   "execution_count": 205,
   "metadata": {
    "collapsed": true
   },
   "outputs": [],
   "source": [
    "genome_str = str(genome.seq)"
   ]
  },
  {
   "cell_type": "code",
   "execution_count": 206,
   "metadata": {},
   "outputs": [
    {
     "name": "stdout",
     "output_type": "stream",
     "text": [
      "5943170\n"
     ]
    }
   ],
   "source": [
    "print(len(genome_str))"
   ]
  },
  {
   "cell_type": "code",
   "execution_count": 207,
   "metadata": {
    "collapsed": true
   },
   "outputs": [],
   "source": [
    "df = pd.DataFrame(columns=['seq','class'])"
   ]
  },
  {
   "cell_type": "code",
   "execution_count": 208,
   "metadata": {
    "scrolled": true
   },
   "outputs": [
    {
     "name": "stdout",
     "output_type": "stream",
     "text": [
      "Preproc progress: 99.980314 \r"
     ]
    }
   ],
   "source": [
    "for i in range(0,len(genome_str)-250,250):\n",
    "    #print('[' + str(i+1) + ']: ' + genome_str[i:250+i])\n",
    "    if i % 1000 == 0:\n",
    "        sys.stdout.write('Preproc progress: %f \\r' % (i*100/len(genome_str)))\n",
    "        sys.stdout.flush()\n",
    "        clear_output(wait=True)\n",
    "    df = df.append(pd.DataFrame([[genome_str[i:250+i],spec]],columns=['seq','class']),ignore_index=True)"
   ]
  },
  {
   "cell_type": "code",
   "execution_count": 209,
   "metadata": {},
   "outputs": [
    {
     "data": {
      "text/plain": [
       "True"
      ]
     },
     "execution_count": 209,
     "metadata": {},
     "output_type": "execute_result"
    }
   ],
   "source": [
    "df.shape[0] == (len(genome_str)//250)"
   ]
  },
  {
   "cell_type": "code",
   "execution_count": 210,
   "metadata": {
    "collapsed": true
   },
   "outputs": [],
   "source": [
    "df.to_csv('/home/ld/MEGA/Tesi_singa/Esperimenti/Datasets/splitted/no_overlap/'+'_'.join(spec.split(' '))+'.csv',header=True,sep=',')"
   ]
  },
  {
   "cell_type": "code",
   "execution_count": null,
   "metadata": {
    "collapsed": true
   },
   "outputs": [],
   "source": []
  }
 ],
 "metadata": {
  "kernelspec": {
   "display_name": "Python 3",
   "language": "python",
   "name": "python3"
  },
  "language_info": {
   "codemirror_mode": {
    "name": "ipython",
    "version": 3
   },
   "file_extension": ".py",
   "mimetype": "text/x-python",
   "name": "python",
   "nbconvert_exporter": "python",
   "pygments_lexer": "ipython3",
   "version": "3.6.4"
  }
 },
 "nbformat": 4,
 "nbformat_minor": 2
}

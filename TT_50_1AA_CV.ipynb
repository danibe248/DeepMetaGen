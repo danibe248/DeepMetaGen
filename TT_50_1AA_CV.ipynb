{
 "cells": [
  {
   "cell_type": "code",
   "execution_count": 32,
   "metadata": {
    "collapsed": true
   },
   "outputs": [],
   "source": [
    "from keras.models import Sequential\n",
    "from keras import layers\n",
    "from keras.optimizers import RMSprop\n",
    "from keras.optimizers import Adadelta\n",
    "from keras.optimizers import Adam\n",
    "from sklearn.model_selection import train_test_split\n",
    "from sklearn.preprocessing import LabelEncoder\n",
    "from keras.utils import np_utils\n",
    "from keras.layers import *\n",
    "import pandas as pd\n",
    "import numpy as np\n",
    "import matplotlib.pyplot as plt\n",
    "import sys\n",
    "from sklearn.model_selection import KFold\n",
    "from IPython.display import clear_output"
   ]
  },
  {
   "cell_type": "code",
   "execution_count": 13,
   "metadata": {
    "collapsed": true
   },
   "outputs": [],
   "source": [
    "files = !cd Datasets/20_genomes_species_splitted/50_splitted && ls *.csv\n",
    "files = list(map(lambda x: 'Datasets/20_genomes_species_splitted/50_splitted/'+x.split(' ')[-1],files))"
   ]
  },
  {
   "cell_type": "code",
   "execution_count": 14,
   "metadata": {
    "collapsed": true
   },
   "outputs": [],
   "source": [
    "d = pd.concat([pd.read_csv(f, index_col=0, header=0) for f in files],ignore_index=True)"
   ]
  },
  {
   "cell_type": "code",
   "execution_count": 15,
   "metadata": {
    "collapsed": true
   },
   "outputs": [],
   "source": [
    "names, occ = np.unique(d['class'].values, return_counts=True)"
   ]
  },
  {
   "cell_type": "code",
   "execution_count": 16,
   "metadata": {
    "collapsed": false
   },
   "outputs": [
    {
     "data": {
      "image/png": "[encoded data removed]",
      "text/plain": [
       "<matplotlib.figure.Figure at 0x7f395f27edd8>"
      ]
     },
     "metadata": {},
     "output_type": "display_data"
    }
   ],
   "source": [
    "index = np.arange(len(names))\n",
    "plt.bar(index, occ)\n",
    "plt.xlabel('Species', fontsize=5)\n",
    "plt.ylabel('Samples', fontsize=5)\n",
    "plt.xticks(index,names, fontsize=5, rotation=30)\n",
    "plt.savefig('dist19.png')\n",
    "plt.show()"
   ]
  },
  {
   "cell_type": "code",
   "execution_count": 17,
   "metadata": {
    "collapsed": true
   },
   "outputs": [],
   "source": [
    "data = d[['class','seq']]"
   ]
  },
  {
   "cell_type": "code",
   "execution_count": 18,
   "metadata": {
    "collapsed": false
   },
   "outputs": [
    {
     "data": {
      "text/html": [
       "<div>\n",
       "<style scoped>\n",
       "    .dataframe tbody tr th:only-of-type {\n",
       "        vertical-align: middle;\n",
       "    }\n",
       "\n",
       "    .dataframe tbody tr th {\n",
       "        vertical-align: top;\n",
       "    }\n",
       "\n",
       "    .dataframe thead th {\n",
       "        text-align: right;\n",
       "    }\n",
       "</style>\n",
       "<table border=\"1\" class=\"dataframe\">\n",
       "  <thead>\n",
       "    <tr style=\"text-align: right;\">\n",
       "      <th></th>\n",
       "      <th>class</th>\n",
       "      <th>seq</th>\n",
       "    </tr>\n",
       "  </thead>\n",
       "  <tbody>\n",
       "    <tr>\n",
       "      <th>1763714</th>\n",
       "      <td>Pseudomonas protegens</td>\n",
       "      <td>TCAAGGACGTCGACCGTGACAGTTTCGACCAGGTGATGCGGCCCAA...</td>\n",
       "    </tr>\n",
       "    <tr>\n",
       "      <th>1448561</th>\n",
       "      <td>Pseudomonas sp.</td>\n",
       "      <td>CTCGAAGGCGACTTCATGCAGCATTTCCCGGTGGATATCTTCCAGA...</td>\n",
       "    </tr>\n",
       "    <tr>\n",
       "      <th>900518</th>\n",
       "      <td>Pseudomonas cerasi</td>\n",
       "      <td>AGCCTGGACAACCGCAGACCAAGGCGTTGATCGAGCGCATTCGCGA...</td>\n",
       "    </tr>\n",
       "    <tr>\n",
       "      <th>343741</th>\n",
       "      <td>Pseudomonas antarctica</td>\n",
       "      <td>CCGGCTGGGAGATGTATATCGGCGGCAATGGCGGGATCAAAACCGA...</td>\n",
       "    </tr>\n",
       "    <tr>\n",
       "      <th>596474</th>\n",
       "      <td>Pseudomonas asplenii</td>\n",
       "      <td>TCGATGGCGGCCAAGGCCAACTCACGCACCGTGTGTGCCGATTGCA...</td>\n",
       "    </tr>\n",
       "    <tr>\n",
       "      <th>1803207</th>\n",
       "      <td>Pseudomonas protegens</td>\n",
       "      <td>GACACGGTACGCCGCTGCCCATCGTCGCCCTTACCGCCCACGCCAT...</td>\n",
       "    </tr>\n",
       "    <tr>\n",
       "      <th>982112</th>\n",
       "      <td>Pseudomonas chengduensis</td>\n",
       "      <td>GAAGACGGGTGATGGCGCCTTGCGCCTTGAATGAGGCGTTGTTGTG...</td>\n",
       "    </tr>\n",
       "    <tr>\n",
       "      <th>1395367</th>\n",
       "      <td>Pseudomonas granadensis</td>\n",
       "      <td>CTTGACGCTACCCGCACGGAACAAGGAATACCCCTTTGAAGCTGGA...</td>\n",
       "    </tr>\n",
       "    <tr>\n",
       "      <th>546388</th>\n",
       "      <td>Pseudomonas asplenii</td>\n",
       "      <td>GCAGGACGGTAAACCCGCTTATCAGGGGCGTCTGGGCGATACCCTG...</td>\n",
       "    </tr>\n",
       "    <tr>\n",
       "      <th>1047631</th>\n",
       "      <td>Pseudomonas cremoricolorata</td>\n",
       "      <td>TGAAGCTTCTCAAATGGCCTTTGCCCGGGTGTCGCAATTGAGCCTG...</td>\n",
       "    </tr>\n",
       "  </tbody>\n",
       "</table>\n",
       "</div>"
      ],
      "text/plain": [
       "                               class  \\\n",
       "1763714        Pseudomonas protegens   \n",
       "1448561              Pseudomonas sp.   \n",
       "900518            Pseudomonas cerasi   \n",
       "343741        Pseudomonas antarctica   \n",
       "596474          Pseudomonas asplenii   \n",
       "1803207        Pseudomonas protegens   \n",
       "982112      Pseudomonas chengduensis   \n",
       "1395367      Pseudomonas granadensis   \n",
       "546388          Pseudomonas asplenii   \n",
       "1047631  Pseudomonas cremoricolorata   \n",
       "\n",
       "                                                       seq  \n",
       "1763714  TCAAGGACGTCGACCGTGACAGTTTCGACCAGGTGATGCGGCCCAA...  \n",
       "1448561  CTCGAAGGCGACTTCATGCAGCATTTCCCGGTGGATATCTTCCAGA...  \n",
       "900518   AGCCTGGACAACCGCAGACCAAGGCGTTGATCGAGCGCATTCGCGA...  \n",
       "343741   CCGGCTGGGAGATGTATATCGGCGGCAATGGCGGGATCAAAACCGA...  \n",
       "596474   TCGATGGCGGCCAAGGCCAACTCACGCACCGTGTGTGCCGATTGCA...  \n",
       "1803207  GACACGGTACGCCGCTGCCCATCGTCGCCCTTACCGCCCACGCCAT...  \n",
       "982112   GAAGACGGGTGATGGCGCCTTGCGCCTTGAATGAGGCGTTGTTGTG...  \n",
       "1395367  CTTGACGCTACCCGCACGGAACAAGGAATACCCCTTTGAAGCTGGA...  \n",
       "546388   GCAGGACGGTAAACCCGCTTATCAGGGGCGTCTGGGCGATACCCTG...  \n",
       "1047631  TGAAGCTTCTCAAATGGCCTTTGCCCGGGTGTCGCAATTGAGCCTG...  "
      ]
     },
     "execution_count": 18,
     "metadata": {},
     "output_type": "execute_result"
    }
   ],
   "source": [
    "data.sample(10)"
   ]
  },
  {
   "cell_type": "code",
   "execution_count": 19,
   "metadata": {
    "collapsed": false
   },
   "outputs": [
    {
     "name": "stdout",
     "output_type": "stream",
     "text": [
      "13459\n"
     ]
    }
   ],
   "source": [
    "current_size = data[data['class']=='Pseudomonas benzenivorans'].shape[0]\n",
    "print(current_size)"
   ]
  },
  {
   "cell_type": "code",
   "execution_count": 73,
   "metadata": {
    "collapsed": true
   },
   "outputs": [],
   "source": [
    "data_pos = data[data['class']=='Pseudomonas benzenivorans']#.sample(int(current_size*0.8)) #80%"
   ]
  },
  {
   "cell_type": "code",
   "execution_count": 74,
   "metadata": {
    "collapsed": true
   },
   "outputs": [],
   "source": [
    "if (data[data['class']!='Pseudomonas benzenivorans'].shape[0]-int(current_size)*18)/18 >= 0:\n",
    "    data_neg = data[data['class']!='Pseudomonas benzenivorans'].sample(int(current_size)*18)\n",
    "else:\n",
    "    data_neg = data[data['class']!='Pseudomonas benzenivorans'].sample((data.shape[0]-current_size))"
   ]
  },
  {
   "cell_type": "code",
   "execution_count": 75,
   "metadata": {
    "collapsed": false
   },
   "outputs": [
    {
     "name": "stdout",
     "output_type": "stream",
     "text": [
      "Preproc progress: 96.589643 \r"
     ]
    }
   ],
   "source": [
    "pos_seq = []\n",
    "lun = 0\n",
    "for i in range(data_pos.shape[0]):\n",
    "    if i % 1000 == 0:\n",
    "        sys.stdout.write('Preproc progress: %f \\r' % (i*100/data_pos.shape[0]))\n",
    "        sys.stdout.flush()\n",
    "        clear_output(wait=True)\n",
    "    if data_pos.iloc[i,0].strip() == 'Pseudomonas benzenivorans':\n",
    "        s = list(map(lambda x: int(ord(x)-65), list(data_pos.iloc[i,1].strip()))) + [data_pos.iloc[i,0].strip()]\n",
    "    else:\n",
    "        s = list(map(lambda x: int(ord(x)-65), list(data_pos.iloc[i,1].strip()))) + ['other']\n",
    "    pos_seq.append(s)\n",
    "pos_seq = np.asarray(pos_seq)"
   ]
  },
  {
   "cell_type": "code",
   "execution_count": 76,
   "metadata": {
    "collapsed": false
   },
   "outputs": [
    {
     "name": "stdout",
     "output_type": "stream",
     "text": [
      "Preproc progress: 99.891853 \r"
     ]
    }
   ],
   "source": [
    "neg_seq = []\n",
    "lun = 0\n",
    "for i in range(data_neg.shape[0]):\n",
    "    if i % 1000 == 0:\n",
    "        sys.stdout.write('Preproc progress: %f \\r' % (i*100/data_neg.shape[0]))\n",
    "        sys.stdout.flush()\n",
    "        clear_output(wait=True)\n",
    "    if data_neg.iloc[i,0].strip() == 'Pseudomonas benzenivorans':\n",
    "        s = list(map(lambda x: int(ord(x)-65), list(data_neg.iloc[i,1].strip()))) + [data_neg.iloc[i,0].strip()]\n",
    "    else:\n",
    "        s = list(map(lambda x: int(ord(x)-65), list(data_neg.iloc[i,1].strip()))) + ['other']\n",
    "    neg_seq.append(s)\n",
    "neg_seq = np.asarray(neg_seq)"
   ]
  },
  {
   "cell_type": "code",
   "execution_count": 77,
   "metadata": {
    "collapsed": false
   },
   "outputs": [
    {
     "data": {
      "text/plain": [
       "LabelEncoder()"
      ]
     },
     "execution_count": 77,
     "metadata": {},
     "output_type": "execute_result"
    }
   ],
   "source": [
    "from sklearn.preprocessing import LabelBinarizer\n",
    "X_enc = LabelBinarizer()\n",
    "X_enc.fit(np.concatenate((neg_seq[:,:-1],pos_seq[:,:-1])).flatten().astype('str'))\n",
    "y_enc = LabelEncoder()\n",
    "y_enc.fit(np.concatenate((neg_seq[:,-1],pos_seq[:,-1])))"
   ]
  },
  {
   "cell_type": "code",
   "execution_count": 78,
   "metadata": {
    "collapsed": true
   },
   "outputs": [],
   "source": [
    "kfold = KFold(n_splits=5,random_state=7)"
   ]
  },
  {
   "cell_type": "code",
   "execution_count": 79,
   "metadata": {
    "collapsed": true
   },
   "outputs": [],
   "source": [
    "split_pos = list(kfold.split(pos_seq[:,:-1],pos_seq[:,-1]))"
   ]
  },
  {
   "cell_type": "code",
   "execution_count": null,
   "metadata": {
    "collapsed": true
   },
   "outputs": [],
   "source": [
    "split_neg = list(kfold.split(neg_seq[:,:-1],neg_seq[:,-1]))"
   ]
  },
  {
   "cell_type": "code",
   "execution_count": null,
   "metadata": {
    "collapsed": false
   },
   "outputs": [
    {
     "name": "stdout",
     "output_type": "stream",
     "text": [
      "(204576, 250, 5)\n",
      "(51145, 250, 5)\n"
     ]
    }
   ],
   "source": [
    "for f in range(10):\n",
    "    pos_train = split_pos[f][0]\n",
    "    pos_test = split_pos[f][1]\n",
    "    neg_train = split_neg[f][0]\n",
    "    neg_test = split_neg[f][1]\n",
    "    \n",
    "    X_train = np.concatenate((neg_seq[neg_train,:-1],pos_seq[pos_train,:-1]))\n",
    "    y_train = np.concatenate((neg_seq[neg_train,-1],pos_seq[pos_train,-1]))\n",
    "    X_test = np.concatenate((neg_seq[neg_test,:-1],pos_seq[pos_test,:-1]))\n",
    "    y_test = np.concatenate((neg_seq[neg_test,-1],pos_seq[pos_test,-1]))\n",
    "    \n",
    "    X_train = np.asarray(list(map(lambda x: X_enc.transform(x.astype('str')),X_train)))\n",
    "    X_test = np.asarray(list(map(lambda x: X_enc.transform(x.astype('str')),X_test)))\n",
    "    \n",
    "    y_train = y_enc.transform(y_train)\n",
    "    y_train = np_utils.to_categorical(y_train)\n",
    "    y_test = y_enc.transform(y_test)\n",
    "    y_test = np_utils.to_categorical(y_test)\n",
    "    \n",
    "    print(X_train.shape)\n",
    "    print(X_test.shape)"
   ]
  },
  {
   "cell_type": "code",
   "execution_count": 70,
   "metadata": {
    "collapsed": false
   },
   "outputs": [
    {
     "data": {
      "text/plain": [
       "array([['6', '19', '0', ..., '0', '0', 'Pseudomonas benzenivorans'],\n",
       "       ['2', '6', '2', ..., '6', '2', 'Pseudomonas benzenivorans'],\n",
       "       ['2', '0', '19', ..., '0', '0', 'Pseudomonas benzenivorans'],\n",
       "       ...,\n",
       "       ['0', '6', '6', ..., '6', '19', 'Pseudomonas benzenivorans'],\n",
       "       ['6', '19', '2', ..., '6', '2', 'Pseudomonas benzenivorans'],\n",
       "       ['19', '6', '19', ..., '2', '0', 'Pseudomonas benzenivorans']],\n",
       "      dtype='<U25')"
      ]
     },
     "execution_count": 70,
     "metadata": {},
     "output_type": "execute_result"
    }
   ],
   "source": [
    "pos_seq"
   ]
  },
  {
   "cell_type": "code",
   "execution_count": 1,
   "metadata": {
    "collapsed": true
   },
   "outputs": [],
   "source": [
    "import pickle"
   ]
  },
  {
   "cell_type": "code",
   "execution_count": 2,
   "metadata": {
    "collapsed": true
   },
   "outputs": [],
   "source": [
    "with open('Restults_cv/Pseudomonas_benzenivorans_CV_scores.pkl','rb') as p:\n",
    "    x = pickle.load(p)"
   ]
  },
  {
   "cell_type": "code",
   "execution_count": 8,
   "metadata": {
    "collapsed": false
   },
   "outputs": [
    {
     "data": {
      "text/plain": [
       "[[{'f1': 0.96168940384974777,\n",
       "   'precision': 0.96765701391500569,\n",
       "   'recall': 0.95579494799405651},\n",
       "  {'f1': 0.94579582455468303,\n",
       "   'precision': 0.97627520759193354,\n",
       "   'recall': 0.91716196136701333},\n",
       "  {'f1': 0.94846153846153847,\n",
       "   'precision': 0.98325358851674638,\n",
       "   'recall': 0.91604754829123325},\n",
       "  {'f1': 0.95108077360637089,\n",
       "   'precision': 0.97134004647560035,\n",
       "   'recall': 0.93164933135215455},\n",
       "  {'f1': 0.94842300556586268,\n",
       "   'precision': 0.94701741385698401,\n",
       "   'recall': 0.94983277591973247}],\n",
       " [array([[ 2573,   119],\n",
       "         [   86, 48367]]), array([[ 2469,   223],\n",
       "         [   60, 48393]]), array([[ 2466,   226],\n",
       "         [   42, 48410]]), array([[ 2508,   184],\n",
       "         [   74, 48378]]), array([[ 2556,   135],\n",
       "         [  143, 48309]])],\n",
       " [[0.18561426713105875,\n",
       "   0.14751075248321527,\n",
       "   0.12013838103393013,\n",
       "   0.095376753106456325,\n",
       "   0.073917908616118966,\n",
       "   0.055635968749714416,\n",
       "   0.040854778053667572,\n",
       "   0.029888716180944033,\n",
       "   0.021368820845210933,\n",
       "   0.015436589516865096,\n",
       "   0.011039120991260948,\n",
       "   0.0076320848139988795,\n",
       "   0.0054333022564380298,\n",
       "   0.0038735216143737888,\n",
       "   0.0027062024487828564,\n",
       "   0.0019231373220418057,\n",
       "   0.0013796196336391604,\n",
       "   0.0013651646451492911,\n",
       "   0.00088378714225679741,\n",
       "   0.00045317287703395561,\n",
       "   0.00031995991962223918],\n",
       "  [0.18364614176441693,\n",
       "   0.14630886004288166,\n",
       "   0.11852957373501723,\n",
       "   0.093933420621542488,\n",
       "   0.072693728419191514,\n",
       "   0.054929423784968526,\n",
       "   0.041319130770261905,\n",
       "   0.030182693592057386,\n",
       "   0.022038311970343845,\n",
       "   0.016113372890937675,\n",
       "   0.011541874821065886,\n",
       "   0.0082616191639239295,\n",
       "   0.0060256597202800726,\n",
       "   0.0043165632126861411,\n",
       "   0.0030368906079249144,\n",
       "   0.0022453794632173239,\n",
       "   0.0015674027475871329,\n",
       "   0.0011045775567123,\n",
       "   0.00082305796721456699,\n",
       "   0.00059964328611203908,\n",
       "   0.00040931327511483214],\n",
       "  [0.19743708497516976,\n",
       "   0.15499268277794964,\n",
       "   0.12911619607658376,\n",
       "   0.10553364915327872,\n",
       "   0.083298878122755868,\n",
       "   0.064248865484357195,\n",
       "   0.048647705564515926,\n",
       "   0.035994796820198953,\n",
       "   0.026660228405224036,\n",
       "   0.019298907449252174,\n",
       "   0.014145828301555403,\n",
       "   0.010219303471233043,\n",
       "   0.0074633382057815636,\n",
       "   0.0051898936438781774,\n",
       "   0.0037124445880214233,\n",
       "   0.0027107070190915193,\n",
       "   0.0019231512282870636,\n",
       "   0.0014511896027473235,\n",
       "   0.0010026033619158332,\n",
       "   0.00068383300665868089,\n",
       "   0.00049873468089196545],\n",
       "  [0.18342896615789592,\n",
       "   0.14541185018452954,\n",
       "   0.11764808180069504,\n",
       "   0.09407969708850196,\n",
       "   0.073005915724389206,\n",
       "   0.055923160207075592,\n",
       "   0.042156685729789083,\n",
       "   0.031033646336650705,\n",
       "   0.022822028557080411,\n",
       "   0.01677716850774167,\n",
       "   0.011937738960564855,\n",
       "   0.0086604765546122436,\n",
       "   0.0062533834977643102,\n",
       "   0.0045309278203244149,\n",
       "   0.0033701008536547753,\n",
       "   0.0024627607498210555,\n",
       "   0.0017091459717280982,\n",
       "   0.0011800281444998791,\n",
       "   0.00089584846734525232,\n",
       "   0.0006115713144265024,\n",
       "   0.00044292786680231967],\n",
       "  [0.18386359538539793,\n",
       "   0.14718454523628127,\n",
       "   0.12151802783467269,\n",
       "   0.098223011793729539,\n",
       "   0.078716089996156549,\n",
       "   0.060995440316081062,\n",
       "   0.046931600005400718,\n",
       "   0.03598005730429292,\n",
       "   0.026749814221992862,\n",
       "   0.020023284294109975,\n",
       "   0.014996426586512368,\n",
       "   0.010916154833755638,\n",
       "   0.007903955282316865,\n",
       "   0.0058554342105631933,\n",
       "   0.0042022007845900029,\n",
       "   0.0032188414574825163,\n",
       "   0.0022171144562338268,\n",
       "   0.0016567777465776893,\n",
       "   0.001156906786042324,\n",
       "   0.00086244549498719911,\n",
       "   0.00061815256148791775]],\n",
       " [[0.16733073178700239,\n",
       "   0.14966585488656897,\n",
       "   0.12473677884671144,\n",
       "   0.10548850796444463,\n",
       "   0.088642484827939683,\n",
       "   0.07712239632378437,\n",
       "   0.061638744047931508,\n",
       "   0.057662017751888998,\n",
       "   0.050915181443107228,\n",
       "   0.035152980088109624,\n",
       "   0.029804713113958367,\n",
       "   0.026386433926165419,\n",
       "   0.027309863859920878,\n",
       "   0.025916845140699089,\n",
       "   0.018569494761180239,\n",
       "   0.019613702226758768,\n",
       "   0.029277767849240743,\n",
       "   0.015771100323063465,\n",
       "   0.015295930206109882,\n",
       "   0.01460505722949337,\n",
       "   0.012246100624674945],\n",
       "  [0.16782094584682353,\n",
       "   0.14564342647922016,\n",
       "   0.12713995315983087,\n",
       "   0.10711264863147019,\n",
       "   0.091188780783511447,\n",
       "   0.077548361845625524,\n",
       "   0.063371567837132811,\n",
       "   0.052344407560863747,\n",
       "   0.043724368724151488,\n",
       "   0.037367908035418,\n",
       "   0.034401752225860192,\n",
       "   0.030149279223517005,\n",
       "   0.026166433522907307,\n",
       "   0.027861803484245148,\n",
       "   0.022128576119852368,\n",
       "   0.01874254051367762,\n",
       "   0.019460353748709445,\n",
       "   0.017048889854286927,\n",
       "   0.016684585478964759,\n",
       "   0.017245130345875367,\n",
       "   0.015581574188648003],\n",
       "  [0.17291352634306373,\n",
       "   0.15200403083658323,\n",
       "   0.13699784505096665,\n",
       "   0.1150991785794965,\n",
       "   0.10311729041043707,\n",
       "   0.088557770050072662,\n",
       "   0.069323178787899148,\n",
       "   0.058483050677540172,\n",
       "   0.051471897060792769,\n",
       "   0.04185707883751065,\n",
       "   0.034723284880995013,\n",
       "   0.031703986294661035,\n",
       "   0.030258737893316363,\n",
       "   0.024523020037802074,\n",
       "   0.024021566257741319,\n",
       "   0.022148004898544106,\n",
       "   0.019078383543229428,\n",
       "   0.018903502856743557,\n",
       "   0.020236786602054687,\n",
       "   0.017599654407368374,\n",
       "   0.017769011983046732],\n",
       "  [0.16589570407948406,\n",
       "   0.14443069266252384,\n",
       "   0.12577355184407149,\n",
       "   0.10975561918707991,\n",
       "   0.091534886057868109,\n",
       "   0.077016113612138878,\n",
       "   0.064100215326669499,\n",
       "   0.05641868804997667,\n",
       "   0.045821866688496131,\n",
       "   0.040259375878769675,\n",
       "   0.033509731623505824,\n",
       "   0.029548847947197785,\n",
       "   0.026264439755344166,\n",
       "   0.029330759901574625,\n",
       "   0.024040899359901977,\n",
       "   0.025184583871831371,\n",
       "   0.021390470958105295,\n",
       "   0.018690643848658445,\n",
       "   0.023249636413207382,\n",
       "   0.018620164636110353,\n",
       "   0.015765377296601348],\n",
       "  [0.16860212207121972,\n",
       "   0.14501871975993968,\n",
       "   0.12965575145241431,\n",
       "   0.10977671411483324,\n",
       "   0.095624255153131624,\n",
       "   0.081235603886324795,\n",
       "   0.069227412548909351,\n",
       "   0.064188241210671973,\n",
       "   0.053533756031561519,\n",
       "   0.044948305543094362,\n",
       "   0.037246230645376757,\n",
       "   0.037799071825742027,\n",
       "   0.030252565806528173,\n",
       "   0.027535525629278652,\n",
       "   0.025255744306844189,\n",
       "   0.022278078539208702,\n",
       "   0.025648595000228473,\n",
       "   0.026897459860791794,\n",
       "   0.018999158732086161,\n",
       "   0.017562751134354317,\n",
       "   0.016428564945236396]],\n",
       " array([ 0.18679801,  0.14828174,  0.12139005,  0.09742931,  0.0763265 ,\n",
       "         0.05834657,  0.04398198,  0.03261598,  0.02392784,  0.01752986,\n",
       "         0.0127322 ,  0.00913793,  0.00661593,  0.00475327,  0.00340557,\n",
       "         0.00251217,  0.00175929,  0.00135155,  0.00095244,  0.00064213,\n",
       "         0.00045782]),\n",
       " array([ 0.16851261,  0.14735254,  0.12886078,  0.10944653,  0.09402154,\n",
       "         0.08029605,  0.06553222,  0.05781928,  0.04909341,  0.03991713,\n",
       "         0.03393714,  0.03111752,  0.02805041,  0.02703359,  0.02280326,\n",
       "         0.02159338,  0.02297111,  0.01946232,  0.01889322,  0.01712655,\n",
       "         0.01555813])]"
      ]
     },
     "execution_count": 8,
     "metadata": {},
     "output_type": "execute_result"
    }
   ],
   "source": [
    "x"
   ]
  },
  {
   "cell_type": "code",
   "execution_count": null,
   "metadata": {
    "collapsed": true
   },
   "outputs": [],
   "source": []
  }
 ],
 "metadata": {
  "kernelspec": {
   "display_name": "Python 3",
   "language": "python",
   "name": "python3"
  },
  "language_info": {
   "codemirror_mode": {
    "name": "ipython",
    "version": 3
   },
   "file_extension": ".py",
   "mimetype": "text/x-python",
   "name": "python",
   "nbconvert_exporter": "python",
   "pygments_lexer": "ipython3",
   "version": "3.5.2"
  }
 },
 "nbformat": 4,
 "nbformat_minor": 2
}
